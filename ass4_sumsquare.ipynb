{
 "cells": [
  {
   "cell_type": "code",
   "execution_count": 3,
   "metadata": {},
   "outputs": [
    {
     "name": "stdout",
     "output_type": "stream",
     "text": [
      "enter the number4\n",
      "the sum of square of first natural numbers is  30\n"
     ]
    }
   ],
   "source": [
    "def squaresum(n) : \n",
    "  \n",
    "    sm = 0\n",
    "    for i in range(1, n+1) : \n",
    "        sm = sm + (i * i) \n",
    "      \n",
    "    return sm \n",
    "  \n",
    " \n",
    "n = int(input(\"enter the number\")) \n",
    "\n",
    "print(\"the sum of square of first natural numbers is \",squaresum(n)) \n",
    "  "
   ]
  }
 ],
 "metadata": {
  "kernelspec": {
   "display_name": "Python 3",
   "language": "python",
   "name": "python3"
  },
  "language_info": {
   "codemirror_mode": {
    "name": "ipython",
    "version": 3
   },
   "file_extension": ".py",
   "mimetype": "text/x-python",
   "name": "python",
   "nbconvert_exporter": "python",
   "pygments_lexer": "ipython3",
   "version": "3.8.3"
  }
 },
 "nbformat": 4,
 "nbformat_minor": 4
}
